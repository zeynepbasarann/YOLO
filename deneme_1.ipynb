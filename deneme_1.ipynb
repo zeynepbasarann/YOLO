{
 "cells": [
  {
   "cell_type": "code",
   "execution_count": 2,
   "id": "bac4a5c6-44e1-4830-8574-97aacd17654a",
   "metadata": {},
   "outputs": [],
   "source": [
    "import cv2\n",
    "from ultralytics import YOLO\n"
   ]
  },
  {
   "cell_type": "code",
   "execution_count": 4,
   "id": "743b5168-5606-4bab-b095-dd4b81988026",
   "metadata": {},
   "outputs": [],
   "source": [
    "model = YOLO('yolo11n-pose.pt')  "
   ]
  },
  {
   "cell_type": "code",
   "execution_count": 6,
   "id": "a2591ada-d1e8-4e69-a8e3-f407e6e26424",
   "metadata": {},
   "outputs": [],
   "source": [
    "image_path = \"C:\\\\Users\\\\zeyne\\\\Desktop\\\\tasarım\\\\görseller\\\\image1.png\"\n",
    "image = cv2.imread(image_path)"
   ]
  },
  {
   "cell_type": "code",
   "execution_count": 8,
   "id": "6871f53b-c6a6-4579-86c9-008cb5980b34",
   "metadata": {},
   "outputs": [
    {
     "name": "stdout",
     "output_type": "stream",
     "text": [
      "\n",
      "image 1/1 C:\\Users\\zeyne\\Desktop\\tasarm\\grseller\\image1.png: 480x640 1 person, 274.3ms\n",
      "Speed: 13.9ms preprocess, 274.3ms inference, 27.4ms postprocess per image at shape (1, 3, 480, 640)\n"
     ]
    }
   ],
   "source": [
    "results = model.predict(source = image_path, imgsz=640, conf=0.25)"
   ]
  },
  {
   "cell_type": "code",
   "execution_count": 16,
   "id": "bdc62d56-8403-4998-a706-9d5af02b676e",
   "metadata": {},
   "outputs": [
    {
     "ename": "ValueError",
     "evalue": "not enough values to unpack (expected 3, got 1)",
     "output_type": "error",
     "traceback": [
      "\u001b[1;31m---------------------------------------------------------------------------\u001b[0m",
      "\u001b[1;31mValueError\u001b[0m                                Traceback (most recent call last)",
      "Cell \u001b[1;32mIn[16], line 5\u001b[0m\n\u001b[0;32m      3\u001b[0m \u001b[38;5;28;01mif\u001b[39;00m keypoints \u001b[38;5;129;01mis\u001b[39;00m \u001b[38;5;129;01mnot\u001b[39;00m \u001b[38;5;28;01mNone\u001b[39;00m:\n\u001b[0;32m      4\u001b[0m     \u001b[38;5;28;01mfor\u001b[39;00m keypoint \u001b[38;5;129;01min\u001b[39;00m keypoints:\n\u001b[1;32m----> 5\u001b[0m         x, y, visibility \u001b[38;5;241m=\u001b[39m keypoint\n\u001b[0;32m      6\u001b[0m         \u001b[38;5;28;01mif\u001b[39;00m visibility \u001b[38;5;241m>\u001b[39m \u001b[38;5;241m0.5\u001b[39m:  \u001b[38;5;66;03m# Görünür olan keypoint'leri işaretle\u001b[39;00m\n\u001b[0;32m      7\u001b[0m             cv2\u001b[38;5;241m.\u001b[39mcircle(image, (\u001b[38;5;28mint\u001b[39m(x), \u001b[38;5;28mint\u001b[39m(y)), \u001b[38;5;241m5\u001b[39m, (\u001b[38;5;241m0\u001b[39m, \u001b[38;5;241m255\u001b[39m, \u001b[38;5;241m0\u001b[39m), \u001b[38;5;241m-\u001b[39m\u001b[38;5;241m1\u001b[39m)\n",
      "\u001b[1;31mValueError\u001b[0m: not enough values to unpack (expected 3, got 1)"
     ]
    }
   ],
   "source": [
    "for result in results:\n",
    "    keypoints = result.keypoints  # Eğer keypoint tespiti yapılmışsa\n",
    "    if keypoints is not None:\n",
    "        for keypoint in keypoints:\n",
    "            x, y, visibility = keypoint\n",
    "            if visibility > 0.5:  # Görünür olan keypoint'leri işaretle\n",
    "                cv2.circle(image, (int(x), int(y)), 5, (0, 255, 0), -1)\n",
    "            "
   ]
  },
  {
   "cell_type": "code",
   "execution_count": null,
   "id": "c81c3913-2087-41c4-ae74-10d5ef079dfd",
   "metadata": {},
   "outputs": [],
   "source": []
  }
 ],
 "metadata": {
  "kernelspec": {
   "display_name": "Python 3 (ipykernel)",
   "language": "python",
   "name": "python3"
  },
  "language_info": {
   "codemirror_mode": {
    "name": "ipython",
    "version": 3
   },
   "file_extension": ".py",
   "mimetype": "text/x-python",
   "name": "python",
   "nbconvert_exporter": "python",
   "pygments_lexer": "ipython3",
   "version": "3.12.4"
  }
 },
 "nbformat": 4,
 "nbformat_minor": 5
}
